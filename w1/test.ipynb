{
 "cells": [
  {
   "cell_type": "code",
   "execution_count": 1,
   "id": "e06e4832",
   "metadata": {},
   "outputs": [
    {
     "name": "stdout",
     "output_type": "stream",
     "text": [
      "Case 1 PASSED\n",
      "Case 2 PASSED\n",
      "Case 3 PASSED\n",
      "Case 4 PASSED\n",
      "Case 5 PASSED\n",
      "Case 6 PASSED\n",
      "Case 7 PASSED\n",
      "7/7 tests passed.\n"
     ]
    }
   ],
   "source": [
    "import subprocess\n",
    "\n",
    "# Biên dịch chương trình chính\n",
    "subprocess.run([\"g++\", \"b1.cpp\", \"-o\", \"b1\"], check=True)\n",
    "\n",
    "# Danh sách test case\n",
    "tests = [\n",
    "    (\"0 0 0\\n\", \"Infinite solutions.\"),\n",
    "    (\"0 0 1\\n\", \"No solution.\"),\n",
    "    (\"0 1 1\\n\", \"No solution.\"),\n",
    "    (\"0 1 -1\\n\", \"The equation has 2 real solution(s):\"),\n",
    "    (\"1 0 1\\n\", \"No solution.\"),\n",
    "    (\"1 0 -1\\n\", \"The equation has 2 real solution(s):\"),\n",
    "    (\"1 -2 1\\n\", \"The equation has 2 real solution(s):\"),\n",
    "]\n",
    "\n",
    "passed = 0\n",
    "\n",
    "for i, (test_input, expected) in enumerate(tests, start=1):\n",
    "    # Chạy chương trình b1 với input\n",
    "    result = subprocess.run(\n",
    "        [\"./b1\"],\n",
    "        input=test_input,\n",
    "        text=True,\n",
    "        capture_output=True\n",
    "    )\n",
    "    output = result.stdout\n",
    "\n",
    "    if expected in output:\n",
    "        print(f\"Case {i} PASSED\")\n",
    "        passed += 1\n",
    "    else:\n",
    "        print(f\"Case {i} FAILED\")\n",
    "        print(f\" Input: {test_input.strip()}\")\n",
    "        print(f\" Expected: {expected}\")\n",
    "        print(f\" Got: {output.strip()}\")\n",
    "\n",
    "print(f\"{passed}/{len(tests)} tests passed.\")"
   ]
  }
 ],
 "metadata": {
  "kernelspec": {
   "display_name": "Python 3",
   "language": "python",
   "name": "python3"
  },
  "language_info": {
   "codemirror_mode": {
    "name": "ipython",
    "version": 3
   },
   "file_extension": ".py",
   "mimetype": "text/x-python",
   "name": "python",
   "nbconvert_exporter": "python",
   "pygments_lexer": "ipython3",
   "version": "3.12.1"
  }
 },
 "nbformat": 4,
 "nbformat_minor": 5
}
