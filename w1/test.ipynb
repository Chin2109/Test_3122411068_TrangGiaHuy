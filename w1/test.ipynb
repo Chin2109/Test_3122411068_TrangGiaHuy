{
 "cells": [
  {
   "cell_type": "markdown",
   "id": "a1c82cca",
   "metadata": {},
   "source": [
    "# Báo cáo kiểm thử chương trình giải phương trình bậc 4 đặc biệt\n",
    "\n",
    "## 1. Mô tả bài toán\n",
    "- **Input**: 3 số thực `a`, `b`, `c`.\n",
    "- **Output**:\n",
    "  - Nếu `a = b = c = 0`: chương trình in **“Infinite solutions.”**\n",
    "  - Nếu phương trình không có nghiệm thực: in **“No solution.”**\n",
    "  - Nếu có nghiệm thực: in số lượng nghiệm thực và danh sách nghiệm.\n",
    "\n",
    "---\n",
    "\n",
    "## 2. Xây dựng kịch bản test (Branch Coverage)\n",
    "\n",
    "Để đảm bảo **branch coverage**, cần xét đến true/false của từng nhánh:\n",
    "\n",
    "- **Nhánh 1**: `(a==0, b==0, c==0)`\n",
    "  ```cpp\n",
    "  if (a == 0 && b == 0 && c == 0) { return -1; }\n",
    "\n",
    "- **Nhánh 2**: `(a==0, b==0, c≠0)`\n",
    "  ```cpp\n",
    "  if (a == 0 && b == 0) { return 0; }\n",
    "\n",
    "- **Nhánh 3**: `(a==0, b≠0, y<0)`\n",
    "  ```cpp\n",
    "  if (y < 0) return 0;\n",
    "\n",
    "- **Nhánh 4**: `(a==0, b≠0, y>=0)`\n",
    "  ```cpp\n",
    "  x[0] = sqrt(y);\n",
    "  x[1] = -sqrt(y);\n",
    "  return 2;\n",
    "\n",
    "- **Nhánh 5**: `(a≠0, delta<0)`\n",
    "  ```cpp\n",
    "  if (delta < 0) return 0;\n",
    "\n",
    "- **Nhánh 6**: `(a≠0, delta>=0, y1>=0)`\n",
    "  ```cpp\n",
    "  if (y1 >= 0)\n",
    "\n",
    "- **Nhánh 7**: `(a≠0, delta>=0, y2>=0 && y2!=y1)`\n",
    "  ```cpp\n",
    "  if (y2 >= 0 && y2 != y1)\n",
    "\n",
    "| Case | Input (a, b, c) | Expect Output                             |\n",
    "| ---- | --------------- | ----------------------------------------- |\n",
    "| 1    | (0, 0, 0)       | Infinite solutions.                       |\n",
    "| 2    | (0, 0, 1)       | No solution.                              |\n",
    "| 3    | (0, 1, 1)       | No solution.                              |\n",
    "| 4    | (0, 1, -1)      | The equation has 2 real solution(s): 1 -1 |\n",
    "| 5    | (1, 0, 1)       | No solution.                              |\n",
    "| 6    | (1, 0, -1)      | The equation has 2 real solution(s): 1 -1 |\n",
    "| 7    | (1, -2, 1)      | The equation has 2 real solution(s): 1 -1 |\n",
    "\n",
    "\n",
    "\n"
   ]
  },
  {
   "cell_type": "code",
   "execution_count": 7,
   "id": "9665b094",
   "metadata": {},
   "outputs": [
    {
     "name": "stdout",
     "output_type": "stream",
     "text": [
      "Case 1 PASSED\n",
      "Case 2 PASSED\n",
      "Case 3 PASSED\n",
      "Case 4 PASSED\n",
      "Case 5 PASSED\n",
      "Case 6 PASSED\n",
      "Case 7 PASSED\n",
      "7/7 tests passed.\n"
     ]
    }
   ],
   "source": [
import subprocess

# Biên dịch chương trình chính
subprocess.run(["g++", "b1.cpp", "-o", "b1"], check=True)

# Danh sách test case
tests = [
    ("0 0 0\n", "Infinite solutions."),
    ("0 0 1\n", "No solution."),
    ("0 1 1\n", "No solution."),
    ("0 1 -1\n", "The equation has 2 real solution(s):"),
    ("1 0 1\n", "No solution."),
    ("1 0 -1\n", "The equation has 2 real solution(s):"),
    ("1 -2 1\n", "The equation has 2 real solution(s):"),
]

passed = 0

for i, (test_input, expected) in enumerate(tests, start=1):
    # Chạy chương trình b1 với input
    result = subprocess.run(
        ["./b1"],
        input=test_input,
        text=True,
        capture_output=True
    )
    output = result.stdout

    if expected in output:
        print(f"Case {i} PASSED")
        passed += 1
    else:
        print(f"Case {i} FAILED")
        print(f" Input: {test_input.strip()}")
        print(f" Expected: {expected}")
        print(f" Got: {output.strip()}")

print(f"{passed}/{len(tests)} tests passed.")
   ]
  }
 ],
 "metadata": {
  "kernelspec": {
   "display_name": "Python 3",
   "language": "python",
   "name": "python3"
  },
  "language_info": {
   "codemirror_mode": {
    "name": "ipython",
    "version": 3
   },
   "file_extension": ".py",
   "mimetype": "text/x-python",
   "name": "python",
   "nbconvert_exporter": "python",
   "pygments_lexer": "ipython3",
   "version": "3.12.1"
  }
 },
 "nbformat": 4,
 "nbformat_minor": 5
}
